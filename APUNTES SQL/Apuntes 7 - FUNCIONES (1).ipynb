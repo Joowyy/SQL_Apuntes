{
 "cells": [
  {
   "cell_type": "markdown",
   "metadata": {},
   "source": [
    "<h2>Creación de una función en MySQL</h2>\n",
    "<p>En este ejemplo, aprenderemos cómo definir una función en MySQL. En particular, utilizaremos MySQL para crear una función que simplemente devuelva el valor <code>1</code>.</p>\n",
    "<p>En SQL, una función permite encapsular lógica reutilizable que puede ser invocada en consultas.</p>\n",
    "\n",
    "<h3>Sintaxis de una función en MySQL</h3>\n",
    "<p>La sintaxis básica para crear una función en MySQL es:</p>\n",
    "<pre>\n",
    "DELIMITER //\n",
    "CREATE FUNCTION nombre_funcion (parámetros)\n",
    "RETURNS tipo_dato\n",
    "BEGIN\n",
    "   -- Cuerpo de la función\n",
    "   RETURN valor;\n",
    "END //\n",
    "DELIMITER ;\n",
    "</pre>\n",
    "\n",
    "<h3>Componentes principales de una función</h3>\n",
    "<ul>\n",
    "    <li><strong>CREATE FUNCTION:</strong> Define una nueva función.</li>\n",
    "    <li><strong>nombre_funcion:</strong> Nombre único de la función.</li>\n",
    "    <li><strong>parámetros:</strong> Lista de parámetros opcionales con sus tipos de datos.</li>\n",
    "    <li><strong>RETURNS tipo_dato:</strong> Define el tipo de dato que la función devuelve.</li>\n",
    "    <li><strong>BEGIN ... END:</strong> Bloque que contiene las sentencias SQL de la función.</li>\n",
    "    <li><strong>RETURN:</strong> Devuelve un valor como resultado de la función.</li>\n",
    "</ul>\n",
    "\n",
    "<p>Veamos un ejemplo concreto en MySQL.</p>"
   ]
  },
  {
   "cell_type": "code",
   "execution_count": 1,
   "metadata": {},
   "outputs": [],
   "source": [
    "-- Eliminamos la función si ya existe para evitar errores\n",
    "DROP FUNCTION IF EXISTS new_function;\n",
    "\n",
    "-- Cambiamos el delimitador para definir la función\n",
    "DELIMITER //\n",
    "\n",
    "-- Creación de la función en MySQL\n",
    "CREATE FUNCTION new_function()\n",
    "RETURNS INTEGER\n",
    "BEGIN\n",
    "   RETURN 1;\n",
    "END //\n",
    "\n",
    "-- Restauramos el delimitador\n",
    "DELIMITER ;"
   ]
  },
  {
   "cell_type": "markdown",
   "metadata": {},
   "source": [
    "<h3>Ejecutando la función</h3>\n",
    "<p>Ahora, para utilizar la función, podemos llamarla en una consulta SQL como se muestra a continuación:</p>"
   ]
  },
  {
   "cell_type": "code",
   "execution_count": 2,
   "metadata": {},
   "outputs": [],
   "source": [
    "-- Llamada a la función en una consulta\n",
    "SELECT new_function();"
   ]
  },
  {
   "cell_type": "markdown",
   "metadata": {},
   "source": [
    "<h3>Ejemplo de función con parámetros</h3>\n",
    "<p>Podemos definir funciones con parámetros para recibir valores de entrada y operar sobre ellos.</p>\n",
    "<pre>\n",
    "DELIMITER //\n",
    "CREATE FUNCTION suma(a INTEGER, b INTEGER)\n",
    "RETURNS INTEGER\n",
    "BEGIN\n",
    "    RETURN a + b;\n",
    "END //\n",
    "DELIMITER ;\n",
    "</pre>\n",
    "\n",
    "<p>Esta función suma dos números enteros y devuelve el resultado.</p>"
   ]
  },
  {
   "cell_type": "code",
   "execution_count": 3,
   "metadata": {},
   "outputs": [],
   "source": [
    "-- Creación de una función con parámetros en MySQL\n",
    "DROP FUNCTION IF EXISTS suma;\n",
    "\n",
    "DELIMITER //\n",
    "CREATE FUNCTION suma(a INTEGER, b INTEGER)\n",
    "RETURNS INTEGER\n",
    "BEGIN\n",
    "    RETURN a + b;\n",
    "END //\n",
    "DELIMITER ;"
   ]
  },
  {
   "cell_type": "code",
   "execution_count": 4,
   "metadata": {},
   "outputs": [],
   "source": [
    "-- Llamada a la función con parámetros\n",
    "SELECT suma(5, 10);"
   ]
  },
  {
   "cell_type": "markdown",
   "metadata": {},
   "source": [
    "<h3>Uso de variables en una función</h3>\n",
    "<p>Podemos definir variables dentro de una función para almacenar valores temporales.</p>\n",
    "<pre>\n",
    "DELIMITER //\n",
    "CREATE FUNCTION cuadrado(x INTEGER)\n",
    "RETURNS INTEGER\n",
    "BEGIN\n",
    "    DECLARE resultado INTEGER;\n",
    "    SET resultado = x * x;\n",
    "    RETURN resultado;\n",
    "END //\n",
    "DELIMITER ;\n",
    "</pre>\n",
    "\n",
    "<p>La función <code>cuadrado</code> toma un número y devuelve su cuadrado.</p>"
   ]
  },
  {
   "cell_type": "code",
   "execution_count": 5,
   "metadata": {},
   "outputs": [],
   "source": [
    "-- Creación de la función cuadrado en MySQL\n",
    "DROP FUNCTION IF EXISTS cuadrado;\n",
    "\n",
    "DELIMITER //\n",
    "CREATE FUNCTION cuadrado(x INTEGER)\n",
    "RETURNS INTEGER\n",
    "BEGIN\n",
    "    DECLARE resultado INTEGER;\n",
    "    SET resultado = x * x;\n",
    "    RETURN resultado;\n",
    "END //\n",
    "DELIMITER ;"
   ]
  },
  {
   "cell_type": "code",
   "execution_count": 6,
   "metadata": {},
   "outputs": [],
   "source": [
    "-- Llamada a la función cuadrado\n",
    "SELECT cuadrado(4);"
   ]
  },
  {
   "cell_type": "markdown",
   "metadata": {},
   "source": [
    "<h3>Condiciones y estructuras de control</h3>\n",
    "<p>Podemos usar estructuras de control como <code>IF</code> y <code>CASE</code> dentro de las funciones.</p>\n",
    "<pre>\n",
    "DELIMITER //\n",
    "CREATE FUNCTION signo(numero INTEGER)\n",
    "RETURNS TEXT\n",
    "BEGIN\n",
    "    IF numero > 0 THEN\n",
    "        RETURN 'Positivo';\n",
    "    ELSEIF numero < 0 THEN\n",
    "        RETURN 'Negativo';\n",
    "    ELSE\n",
    "        RETURN 'Cero';\n",
    "    END IF;\n",
    "END //\n",
    "DELIMITER ;\n",
    "</pre>\n",
    "\n",
    "<p>Esta función devuelve si un número es positivo, negativo o cero.</p>"
   ]
  },
  {
   "cell_type": "code",
   "execution_count": 7,
   "metadata": {},
   "outputs": [],
   "source": [
    "-- Creación de la función signo en MySQL\n",
    "DROP FUNCTION IF EXISTS signo;\n",
    "\n",
    "DELIMITER //\n",
    "CREATE FUNCTION signo(numero INTEGER)\n",
    "RETURNS TEXT\n",
    "BEGIN\n",
    "    IF numero > 0 THEN\n",
    "        RETURN 'Positivo';\n",
    "    ELSEIF numero < 0 THEN\n",
    "        RETURN 'Negativo';\n",
    "    ELSE\n",
    "        RETURN 'Cero';\n",
    "    END IF;\n",
    "END //\n",
    "DELIMITER ;"
   ]
  },
  {
   "cell_type": "code",
   "execution_count": 8,
   "metadata": {},
   "outputs": [],
   "source": [
    "-- Llamada a la función signo\n",
    "SELECT signo(-7);"
   ]
  },
  {
   "cell_type": "markdown",
   "metadata": {},
   "source": [
    "<h3>Actualización de apuntes a MySQL con 10 ejercicios sobre funciones</h3>\n",
    "<p>A continuación, se presentan 10 ejercicios prácticos sobre la creación de funciones en MySQL:</p>"
   ]
  },
  {
   "cell_type": "code",
   "execution_count": 9,
   "id": "f5aa017d",
   "metadata": {},
   "outputs": [],
   "source": [
    "-- 1. Función para calcular el IVA de un precio\n",
    "\n",
    "\n",
    "-- 2. Función para obtener el nombre completo de un cliente\n",
    "\n",
    "\n",
    "-- 3. Función para calcular el salario neto con deducciones\n",
    "\n",
    "\n",
    "-- 4. Función que convierte texto en mayúsculas\n",
    "\n",
    "\n",
    "-- 5. Función que devuelve el nombre del día de la semana\n",
    "\n",
    "\n",
    "-- 6. Función para calcular la edad dada una fecha de nacimiento\n",
    "\n",
    "\n",
    "-- 7. Función que cuenta cuántos pedidos ha hecho un cliente\n",
    "\n",
    "\n",
    "-- 8. Función para calcular el descuento aplicado a un producto\n",
    "\n",
    "\n",
    "-- 9. Función que verifica si un número es primo\n",
    "\n",
    "\n",
    "-- 10. Función que convierte grados Celsius a Fahrenheit\n"
   ]
  }
 ],
 "metadata": {
  "kernelspec": {
   "display_name": "Python 3",
   "language": "python",
   "name": "python3"
  },
  "language_info": {
   "codemirror_mode": {
    "name": "ipython",
    "version": 3
   },
   "file_extension": ".py",
   "mimetype": "text/x-python",
   "name": "python",
   "nbconvert_exporter": "python",
   "version": "3.8.8"
  }
 },
 "nbformat": 4,
 "nbformat_minor": 5
}
