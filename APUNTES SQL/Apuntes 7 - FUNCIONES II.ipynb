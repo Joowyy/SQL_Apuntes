{
 "cells": [
  {
   "cell_type": "markdown",
   "metadata": {},
   "source": [
    "# Apuntes de MySQL: Funciones y Comandos\n",
    "\n",
    "En este documento, exploraremos algunas funciones y comandos comunes en MySQL, como `CONCAT`, `DAYNAME`, `TIMESTAMPDIFF`, `WHILE DO`, `IF`, `MOD`, `SET`, entre otros. Estos ejemplos están diseñados para un nivel universitario."
   ]
  },
  {
   "cell_type": "markdown",
   "metadata": {},
   "source": [
    "## 1. CONCAT\n",
    "La función `CONCAT` se utiliza para concatenar dos o más cadenas de texto."
   ]
  },
  {
   "cell_type": "code",
   "execution_count": null,
   "metadata": {},
   "outputs": [],
   "source": [
    "SELECT CONCAT('Hola', ' ', 'Mundo') AS Saludo;"
   ]
  },
  {
   "cell_type": "code",
   "execution_count": null,
   "metadata": {},
   "outputs": [],
   "source": [
    "DELIMITER //\n",
    "\n",
    "CREATE FUNCTION GenerarSaludo(a VARCHAR(25), b  VARCHAR(25))\n",
    "RETURNS VARCHAR(50)\n",
    "BEGIN\n",
    "    DECLARE saludo VARCHAR(50);\n",
    "    SET saludo = CONCAT(a, ' ', b);\n",
    "    RETURN saludo;\n",
    "END //\n",
    "\n",
    "DELIMITER ;"
   ]
  },
  {
   "cell_type": "markdown",
   "metadata": {},
   "source": [
    "**Resultado esperado:**\n",
    "```\n",
    "Saludo\n",
    "---------\n",
    "Hola Mundo\n",
    "```"
   ]
  },
  {
   "cell_type": "markdown",
   "metadata": {},
   "source": [
    "## 2. DAYNAME\n",
    "La función `DAYNAME` devuelve el nombre del día de la semana para una fecha dada."
   ]
  },
  {
   "cell_type": "code",
   "execution_count": null,
   "metadata": {},
   "outputs": [],
   "source": [
    "SELECT DAYNAME('2023-10-05') AS Dia;"
   ]
  },
  {
   "cell_type": "code",
   "execution_count": null,
   "metadata": {},
   "outputs": [],
   "source": [
    "DELIMITER //\n",
    "\n",
    "CREATE FUNCTION GenerarDia(a DATE)\n",
    "RETURNS VARCHAR(50)\n",
    "BEGIN\n",
    "    DECLARE dia VARCHAR(50);\n",
    "    SET dia = DAYNAME(a);\n",
    "    RETURN dia;\n",
    "END //\n",
    "\n",
    "DELIMITER ;"
   ]
  },
  {
   "cell_type": "markdown",
   "metadata": {},
   "source": [
    "**Resultado esperado:**\n",
    "```\n",
    "Dia\n",
    "-------\n",
    "Thursday\n",
    "```"
   ]
  },
  {
   "cell_type": "markdown",
   "metadata": {},
   "source": [
    "## 3. TIMESTAMPDIFF\n",
    "La función `TIMESTAMPDIFF` calcula la diferencia entre dos fechas en una unidad específica (años, meses, días, etc.)."
   ]
  },
  {
   "cell_type": "code",
   "execution_count": null,
   "metadata": {},
   "outputs": [],
   "source": [
    "SELECT TIMESTAMPDIFF(YEAR, '2000-01-01', '2023-10-05') AS Anios;"
   ]
  },
  {
   "cell_type": "code",
   "execution_count": null,
   "metadata": {},
   "outputs": [],
   "source": [
    "DELIMITER //\n",
    "\n",
    "CREATE FUNCTION GenerarDia(a DATE, b DATE)\n",
    "RETURNS INTEGER\n",
    "BEGIN\n",
    "    DECLARE dia INTEGER;\n",
    "    SET dia = TIMESTAMPDIFF([YEAR/MONT/DAY], a, b);\n",
    "    RETURN dia;\n",
    "END //\n",
    "\n",
    "DELIMITER ;"
   ]
  },
  {
   "cell_type": "markdown",
   "metadata": {},
   "source": [
    "**Resultado esperado:**\n",
    "```\n",
    "Anios\n",
    "-------\n",
    "23\n",
    "```"
   ]
  },
  {
   "cell_type": "markdown",
   "metadata": {},
   "source": [
    "## 4. WHILE DO\n",
    "El bucle `WHILE DO` se utiliza para ejecutar un bloque de código repetidamente mientras se cumpla una condición. Este ejemplo crea un procedimiento almacenado que cuenta hasta 10."
   ]
  },
  {
   "cell_type": "code",
   "execution_count": null,
   "metadata": {},
   "outputs": [],
   "source": [
    "DELIMITER //\n",
    "\n",
    "CREATE PROCEDURE ContarHasta10()\n",
    "BEGIN\n",
    "    DECLARE contador INT DEFAULT 1;\n",
    "    WHILE contador <= 10 DO\n",
    "        SELECT contador;\n",
    "        SET contador = contador + 1;\n",
    "    END WHILE;\n",
    "END //\n",
    "\n",
    "DELIMITER ;\n",
    "\n",
    "CALL ContarHasta10();"
   ]
  },
  {
   "cell_type": "markdown",
   "metadata": {},
   "source": [
    "**Resultado esperado:**\n",
    "```\n",
    "contador\n",
    "---------\n",
    "1\n",
    "2\n",
    "...\n",
    "10\n",
    "```"
   ]
  },
  {
   "cell_type": "markdown",
   "metadata": {},
   "source": [
    "## 5. IF\n",
    "La función `IF` se utiliza para realizar una evaluación condicional."
   ]
  },
  {
   "cell_type": "code",
   "execution_count": null,
   "metadata": {},
   "outputs": [],
   "source": [
    "SELECT IF(1 > 0, 'Verdadero', 'Falso') AS Resultado;"
   ]
  },
  {
   "cell_type": "code",
   "execution_count": null,
   "metadata": {},
   "outputs": [],
   "source": [
    "DELIMITER //\n",
    "CREATE FUNCTION mayorMenor(numero INTEGER)\n",
    "RETURNS TEXT\n",
    "BEGIN\n",
    "    IF numero > 0 THEN\n",
    "        RETURN 'Verdadero';\n",
    "    ELSEIF numero < 0 THEN\n",
    "        RETURN 'Falso';\n",
    "    ELSE\n",
    "        RETURN 'Cero';\n",
    "    END IF;\n",
    "END //\n",
    "DELIMITER ;"
   ]
  },
  {
   "cell_type": "markdown",
   "metadata": {},
   "source": [
    "**Resultado esperado:**\n",
    "```\n",
    "Resultado\n",
    "---------\n",
    "Verdadero\n",
    "```"
   ]
  },
  {
   "cell_type": "markdown",
   "metadata": {},
   "source": [
    "## 6. MOD\n",
    "La función `MOD` devuelve el resto de una división."
   ]
  },
  {
   "cell_type": "code",
   "execution_count": null,
   "metadata": {},
   "outputs": [],
   "source": [
    "SELECT MOD(10, 3) AS Resto;"
   ]
  },
  {
   "cell_type": "code",
   "execution_count": null,
   "metadata": {},
   "outputs": [],
   "source": [
    "DELIMITER //\n",
    "CREATE FUNCTION Resto (a INTEGER, b INTEGER)\n",
    "RETURNS INTEGER\n",
    "BEGIN\n",
    "    DECLARE resto INTEGER;\n",
    "    SET resto = MOD(a, b);\n",
    "    RETURN resto;\n",
    "END //\n",
    "\n",
    "DELIMITER ;"
   ]
  },
  {
   "cell_type": "markdown",
   "metadata": {},
   "source": [
    "**Resultado esperado:**\n",
    "```\n",
    "Resto\n",
    "-------\n",
    "1\n",
    "```"
   ]
  },
  {
   "cell_type": "markdown",
   "metadata": {},
   "source": [
    "## 7. SET\n",
    "El comando `SET` se utiliza para asignar un valor a una variable."
   ]
  },
  {
   "cell_type": "code",
   "execution_count": null,
   "metadata": {},
   "outputs": [],
   "source": [
    "SET @mi_variable = 10;\n",
    "SELECT @mi_variable AS Valor;"
   ]
  },
  {
   "cell_type": "markdown",
   "metadata": {},
   "source": [
    "**Resultado esperado:**\n",
    "```\n",
    "Valor\n",
    "-------\n",
    "10\n",
    "```"
   ]
  },
  {
   "cell_type": "markdown",
   "metadata": {},
   "source": [
    "## 8. Otras Funciones Útiles"
   ]
  },
  {
   "cell_type": "markdown",
   "metadata": {},
   "source": [
    "### 8.1. DATE_FORMAT\n",
    "Formatea una fecha según un patrón especificado."
   ]
  },
  {
   "cell_type": "code",
   "execution_count": null,
   "metadata": {},
   "outputs": [],
   "source": [
    "SELECT DATE_FORMAT('2023-10-05', '%W, %M %d, %Y') AS FechaFormateada;"
   ]
  },
  {
   "cell_type": "code",
   "execution_count": null,
   "metadata": {},
   "outputs": [],
   "source": [
    "DELIMITER //\n",
    "CREATE FUNCTION formatearFecha (fecha DATE)\n",
    "RETURNS VARCHAR(50)\n",
    "BEGIN\n",
    "    RETURN DATE_FORMAT(fecha, '%W, %M %d, %Y');\n",
    "END //\n",
    "\n",
    "DELIMITER ;"
   ]
  },
  {
   "cell_type": "markdown",
   "metadata": {},
   "source": [
    "**Resultado esperado:**\n",
    "```\n",
    "FechaFormateada\n",
    "----------------\n",
    "Thursday, October 05, 2023\n",
    "```"
   ]
  },
  {
   "cell_type": "markdown",
   "metadata": {},
   "source": [
    "### 8.2. NOW\n",
    "Devuelve la fecha y hora actuales."
   ]
  },
  {
   "cell_type": "code",
   "execution_count": null,
   "metadata": {},
   "outputs": [],
   "source": [
    "SELECT NOW() AS Ahora;"
   ]
  },
  {
   "cell_type": "code",
   "execution_count": null,
   "metadata": {},
   "outputs": [],
   "source": [
    "DELIMITER //\n",
    "CREATE FUNCTION fechaHoy ()\n",
    "RETURNS VARCHAR(50)\n",
    "BEGIN\n",
    "    RETURN NOW();\n",
    "END //\n",
    "\n",
    "DELIMITER ;"
   ]
  },
  {
   "cell_type": "markdown",
   "metadata": {},
   "source": [
    "**Resultado esperado:**\n",
    "```\n",
    "Ahora\n",
    "--------------------\n",
    "2023-10-05 12:34:56\n",
    "```"
   ]
  },
  {
   "cell_type": "markdown",
   "metadata": {},
   "source": [
    "### 8.3. CASE\n",
    "Permite realizar evaluaciones condicionales más complejas."
   ]
  },
  {
   "cell_type": "code",
   "execution_count": null,
   "metadata": {},
   "outputs": [],
   "source": [
    "SELECT \n",
    "    CASE \n",
    "        WHEN 1 > 0 THEN 'Verdadero'\n",
    "        ELSE 'Falso'\n",
    "    END AS Resultado;"
   ]
  },
  {
   "cell_type": "code",
   "execution_count": null,
   "metadata": {},
   "outputs": [],
   "source": [
    "DELIMITER //\n",
    "\n",
    "CREATE FUNCTION evaluar_condicion(valor INTEGER) \n",
    "RETURNS VARCHAR(10)\n",
    "BEGIN\n",
    "    RETURN CASE \n",
    "        WHEN valor > 0 THEN 'Verdadero'\n",
    "        ELSE 'Falso'\n",
    "    END;\n",
    "END //\n",
    "\n",
    "DELIMITER ;"
   ]
  },
  {
   "cell_type": "markdown",
   "metadata": {},
   "source": [
    "**Resultado esperado:**\n",
    "```\n",
    "Resultado\n",
    "---------\n",
    "Verdadero\n",
    "```"
   ]
  },
  {
   "cell_type": "code",
   "execution_count": null,
   "metadata": {},
   "outputs": [],
   "source": [
    "DELIMITER //\n",
    "\n",
    "CREATE FUNCTION calcular_descuento(cantidad INT, precio_unitario DECIMAL(10,2)) \n",
    "RETURNS DECIMAL(10,2)\n",
    "\n",
    "BEGIN\n",
    "    DECLARE total DECIMAL(10,2);\n",
    "    DECLARE descuento DECIMAL(10,2);\n",
    "\n",
    "    -- Calcular el precio total sin descuento\n",
    "    SET total = cantidad * precio_unitario;\n",
    "\n",
    "    -- Aplicar la lógica de descuento con CASE\n",
    "    SET descuento = CASE \n",
    "        WHEN cantidad >= 20 THEN total * 0.10  -- 10% de descuento\n",
    "        WHEN cantidad >= 10 THEN total * 0.05  -- 5% de descuento\n",
    "        ELSE 0  -- Sin descuento\n",
    "    END;\n",
    "\n",
    "    -- Retornar el total con descuento aplicado\n",
    "    RETURN total - descuento;\n",
    "END //\n",
    "\n",
    "DELIMITER ;"
   ]
  },
  {
   "cell_type": "markdown",
   "metadata": {},
   "source": [
    "## Conclusión\n",
    "Estas son algunas de las funciones y comandos más comunes en MySQL que pueden ser útiles en el desarrollo de aplicaciones y análisis de datos. Practicar con estas funciones te ayudará a familiarizarte con el lenguaje SQL y a realizar consultas más complejas y eficientes."
   ]
  }
 ],
 "metadata": {
  "kernelspec": {
   "display_name": "Python 3",
   "language": "python",
   "name": "python3"
  },
  "language_info": {
   "name": "python",
   "version": "3.8.5"
  }
 },
 "nbformat": 4,
 "nbformat_minor": 2
}
